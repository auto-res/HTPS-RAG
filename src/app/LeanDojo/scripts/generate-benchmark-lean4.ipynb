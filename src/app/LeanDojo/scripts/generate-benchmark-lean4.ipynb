{
 "cells": [
  {
   "cell_type": "markdown",
   "id": "7a42dda6",
   "metadata": {},
   "source": [
    "Constructing LeanDojo Benchmark (Lean 4)\n",
    "===================================\n",
    "\n",
    "This script uses [LeanDojo](https://leandojo.org/) to construct LeanDojo Benchmark 4 in the appendix of our paper:\n",
    "\n",
    "[LeanDojo: Theorem Proving with Retrieval-Augmented Language Models](https://leandojo.org/)      \n",
    "Under review at NeurIPS (Datasets and Benchmarks Track), 2023  \n",
    "[Kaiyu Yang](https://yangky11.github.io/), [Aidan Swope](https://aidanswope.com/about), [Alex Gu](https://minimario.github.io/), [Rahul Chalamala](https://rchalamala.github.io/), [Peiyang Song](https://peiyang-song.github.io/), [Shixing Yu](https://billysx.github.io/), [Saad Godil](https://www.linkedin.com/in/saad-godil-9728353/), [Ryan Prenger](https://www.linkedin.com/in/ryan-prenger-18797ba1/), [Anima Anandkumar](http://tensorlab.cms.caltech.edu/users/anima/)\n",
    "\n",
    "The dataset is constructed from [mathlib4](https://github.com/leanprover-community/mathlib4/tree/355541ae7a2455222f179dcf7f074aa2c45eb8aa) (`355541ae7a2455222f179dcf7f074aa2c45eb8aa`) and will be saved to `../leandojo_benchmark_4`. It includes 2000 theorems for validation, 2000 theorems for testing, and the rest for training. Please refer to our paper for details. For most use cases, you shouldn't need to generate the data and can directly use our official LeanDojo Benchmark 4 downloadable [here](https://zenodo.org/record/8040110).\n",
    "\n",
    "This script is for Lean 4. We also have a [version for Lean 3](https://github.com/lean-dojo/LeanDojo/blob/main/scripts/generate-benchmark-lean3.ipynb).\n"
   ]
  },
  {
   "cell_type": "code",
   "execution_count": 1,
   "id": "5710e141",
   "metadata": {},
   "outputs": [],
   "source": [
    "import ray\n",
    "import json\n",
    "import shutil\n",
    "import random\n",
    "import networkx as nx\n",
    "from tqdm import tqdm\n",
    "from copy import copy\n",
    "from pathlib import Path\n",
    "from loguru import logger\n",
    "from datetime import datetime\n",
    "from collections import defaultdict\n",
    "from ray.util.actor_pool import ActorPool\n",
    "from typing import Dict, List, Tuple, Union\n",
    "\n",
    "import lean_dojo\n",
    "from lean_dojo import *\n",
    "from lean_dojo.constants import LEAN4_DEPS_DIR\n",
    "\n",
    "random.seed(3407)  # https://arxiv.org/abs/2109.08203\n",
    "\n",
    "URL = \"https://github.com/leanprover-community/mathlib4\"\n",
    "COMMIT = \"355541ae7a2455222f179dcf7f074aa2c45eb8aa\"\n",
    "DST_DIR = Path(\"../leandojo_benchmark_4\")\n",
    "NUM_VAL = NUM_TEST = 2000"
   ]
  },
  {
   "cell_type": "markdown",
   "id": "ae0b666e",
   "metadata": {},
   "source": [
    "## Splitting the Theorems\n",
    "\n",
    "We will split the theorems into train/val/test using two different strategies."
   ]
  },
  {
   "cell_type": "code",
   "execution_count": 2,
   "id": "a34ccdfb",
   "metadata": {},
   "outputs": [],
   "source": [
    "SPLIT_NAME = str  # train/val/test\n",
    "SPLIT = Dict[SPLIT_NAME, List[TracedTheorem]]\n",
    "SPLIT_STRATEGY = str"
   ]
  },
  {
   "cell_type": "markdown",
   "id": "cf5e099d",
   "metadata": {},
   "source": [
    "### Splitting Randomly\n",
    "\n",
    "The first and the simplest strategy is splitting the theorems randomly, which can be implemented by a random shuffle followed by a sequential split."
   ]
  },
  {
   "cell_type": "code",
   "execution_count": 3,
   "id": "f1beb027",
   "metadata": {},
   "outputs": [],
   "source": [
    "def _split_sequentially(\n",
    "    traced_theorems: List[TracedTheorem],\n",
    ") -> SPLIT:\n",
    "    \"\"\"Split ``traced_theorems`` sequentially into train/val/test.\"\"\"\n",
    "    num_theorems = len(traced_theorems)\n",
    "    num_train = num_theorems - NUM_VAL - NUM_TEST\n",
    "    return {\n",
    "        \"train\": traced_theorems[:num_train],\n",
    "        \"val\": traced_theorems[num_train : num_train + NUM_VAL],\n",
    "        \"test\": traced_theorems[num_train + NUM_VAL :],\n",
    "    }\n",
    "\n",
    "\n",
    "def split_randomly(\n",
    "    traced_theorems: List[TracedTheorem],\n",
    ") -> SPLIT:\n",
    "    \"\"\"Split ``traced_theorems`` randomly into train/val/test.\"\"\"\n",
    "    logger.info(\"Splitting the theorems randomly\")\n",
    "    traced_theorems = copy(traced_theorems)\n",
    "    random.shuffle(traced_theorems)\n",
    "    return _split_sequentially(traced_theorems)"
   ]
  },
  {
   "cell_type": "markdown",
   "id": "bc65fe11",
   "metadata": {},
   "source": [
    "### Splitting by Premise\n",
    "\n",
    "The second strategy is splitting by premise. We want to test the prover's capability in using novel premises, i.e., premises that have never been used in training. Please see the implementation below. Note that validation and testing theorems may share premises. So the **testing performance should be reported using models trained on the training set only, NOT training plus validation.**"
   ]
  },
  {
   "cell_type": "code",
   "execution_count": 4,
   "id": "e150f547",
   "metadata": {},
   "outputs": [],
   "source": [
    "def split_by_premise(\n",
    "    traced_theorems: List[TracedTheorem],\n",
    ") -> SPLIT:\n",
    "    \"\"\"\n",
    "    Split theorems into train/val/test so that proofs in val/test rely on at\n",
    "    least one novel premise that does not appear in train.\n",
    "    \"\"\"\n",
    "    logger.info(\"Splitting the theorems by premises\")\n",
    "\n",
    "    # Figure out the number of theorems in train/val/test.\n",
    "    num_theorems = len(traced_theorems)\n",
    "    num_val_test = NUM_VAL + NUM_TEST\n",
    "    num_train = num_theorems - num_val_test\n",
    "    theorems_val_test = set()\n",
    "\n",
    "    # Map each premise to a list of theorems using it.\n",
    "    theorems_by_premises = defaultdict(list)\n",
    "    for t in traced_theorems:\n",
    "        for p in t.get_premise_full_names():\n",
    "            theorems_by_premises[p].append(t)\n",
    "\n",
    "    # Sort the premises by the number of theorems using them (in ascending order).\n",
    "    theorems_by_premises = sorted(theorems_by_premises.items(), key=lambda x: len(x[1]))\n",
    "\n",
    "    # For each premise, put all theorems using it into val_test so that it does not appear in train.\n",
    "    for _, thms in theorems_by_premises:\n",
    "        if len(theorems_val_test) < num_val_test:\n",
    "            theorems_val_test.update(thms)\n",
    "\n",
    "    # All other theorems go to train.\n",
    "    theorems_train = [t for t in traced_theorems if t not in theorems_val_test]\n",
    "    theorems_val_test = list(theorems_val_test)\n",
    "    random.shuffle(theorems_val_test)\n",
    "\n",
    "    return {\n",
    "        \"train\": theorems_train,\n",
    "        \"val\": theorems_val_test[:NUM_VAL],\n",
    "        \"test\": theorems_val_test[NUM_VAL:],\n",
    "    }"
   ]
  },
  {
   "cell_type": "markdown",
   "id": "c0cbecd6",
   "metadata": {},
   "source": [
    "Given a traced repo, we can split the theorems using these strategies."
   ]
  },
  {
   "cell_type": "code",
   "execution_count": 5,
   "id": "03882cc5",
   "metadata": {},
   "outputs": [],
   "source": [
    "def split_data(traced_repo: TracedRepo) -> Dict[SPLIT_STRATEGY, SPLIT]:\n",
    "    # Skip theorems in the Lean 4 repo itself.\n",
    "    traced_theorems = [\n",
    "        thm for thm in traced_repo.get_traced_theorems() if not thm.repo.is_lean4\n",
    "    ]\n",
    "    logger.info(f\"{len(traced_theorems)} theorems in total\")\n",
    "\n",
    "    return {\n",
    "        \"random\": split_randomly(traced_theorems),\n",
    "        \"novel_premises\": split_by_premise(traced_theorems),\n",
    "    }"
   ]
  },
  {
   "cell_type": "markdown",
   "id": "d2b5b015",
   "metadata": {},
   "source": [
    "## Exporting the Data\n",
    "Once theorems are splitted into train/val/test. We export them to JSON formats that can be easily used in machine learning."
   ]
  },
  {
   "cell_type": "code",
   "execution_count": 6,
   "id": "06e6fe8d",
   "metadata": {},
   "outputs": [],
   "source": [
    "def _get_file_path(traced_repo: TracedRepo, thm: TracedTheorem) -> str:\n",
    "    if thm.repo == traced_repo.repo:\n",
    "        # The theorem belongs to the traced repo itself.\n",
    "        return str(thm.theorem.file_path)\n",
    "    else:\n",
    "        # The theorem belongs to one of the dependencies.\n",
    "        for name, dep in traced_repo.dependencies.items():\n",
    "            if dep == thm.repo:\n",
    "                return f\"{LEAN4_DEPS_DIR}/{name}/{thm.theorem.file_path}\"\n",
    "        raise ValueError(f\"Unable to find the dependency {thm.repo}\")\n",
    "\n",
    "\n",
    "def export_proofs(\n",
    "    traced_repo: TracedRepo, splits: Dict[SPLIT_STRATEGY, SPLIT], dst_path: Path\n",
    ") -> None:\n",
    "    \"\"\"Export all proofs in a traced repo to ``dst_path''.\"\"\"\n",
    "    for strategy, split in splits.items():\n",
    "        split_dir = dst_path / strategy\n",
    "        split_dir.mkdir(parents=True)\n",
    "\n",
    "        for name, theorems in split.items():\n",
    "            data = []\n",
    "            num_tactics = 0\n",
    "\n",
    "            for thm in theorems:\n",
    "                tactics = [\n",
    "                    {\n",
    "                        \"tactic\": t.tactic,\n",
    "                        \"annotated_tactic\": t.get_annotated_tactic(),\n",
    "                        \"state_before\": t.state_before,\n",
    "                        \"state_after\": t.state_after,\n",
    "                    }\n",
    "                    for t in thm.get_traced_tactics()\n",
    "                    if t.state_before != \"no goals\"\n",
    "                    and \"·\" not in t.tactic  # Ignore \"·\".\n",
    "                ]\n",
    "                num_tactics += len(tactics)\n",
    "                data.append(\n",
    "                    {\n",
    "                        \"url\": thm.repo.url,\n",
    "                        \"commit\": thm.repo.commit,\n",
    "                        \"file_path\": _get_file_path(traced_repo, thm),\n",
    "                        \"full_name\": thm.theorem.full_name,\n",
    "                        \"start\": list(thm.start),\n",
    "                        \"end\": list(thm.end),\n",
    "                        \"traced_tactics\": tactics,\n",
    "                    }\n",
    "                )\n",
    "            oup_path = split_dir / f\"{name}.json\"\n",
    "            json.dump(data, oup_path.open(\"wt\"))\n",
    "            logger.info(\n",
    "                f\"{len(theorems)} theorems and {num_tactics} tactics saved to {oup_path}\"\n",
    "            )\n",
    "\n",
    "\n",
    "def export_premises(traced_repo: TracedRepo, dst_path: Path) -> None:\n",
    "    \"\"\"Export all premise definitions in a traced repo to ``dst_path``.\"\"\"\n",
    "    oup_path = dst_path / \"corpus.jsonl\"\n",
    "    num_premises = 0\n",
    "\n",
    "    with oup_path.open(\"wt\") as oup:\n",
    "        G = traced_repo.traced_files_graph\n",
    "\n",
    "        for tf_node in reversed(list(nx.topological_sort(G))):\n",
    "            tf = G.nodes[tf_node][\"traced_file\"]\n",
    "            imports = [str(_) for _ in G.successors(tf_node)]\n",
    "            premises = tf.get_premise_definitions()\n",
    "            num_premises += len(premises)\n",
    "            oup.write(\n",
    "                json.dumps(\n",
    "                    {\"path\": str(tf.path), \"imports\": imports, \"premises\": premises}\n",
    "                )\n",
    "                + \"\\n\"\n",
    "            )\n",
    "    logger.info(\n",
    "        f\"{num_premises} theorems/definitions from {traced_repo.num_traced_files} files saved to {oup_path}\"\n",
    "    )\n",
    "\n",
    "\n",
    "def export_licenses(traced_repo: TracedRepo, dst_path: Path) -> None:\n",
    "    \"\"\"Export the licenses of a traced repo and all its dependencies to ``dst_path``.\"\"\"\n",
    "    license_dir = dst_path / \"licenses\"\n",
    "    license_dir.mkdir()\n",
    "    all_repos = [traced_repo.repo] + list(traced_repo.dependencies.values())\n",
    "\n",
    "    for repo in all_repos:\n",
    "        lic = repo.get_license()\n",
    "        if lic is None:\n",
    "            continue\n",
    "        with (license_dir / repo.name).open(\"wt\") as oup:\n",
    "            oup.write(lic)\n",
    "\n",
    "    with (license_dir / \"README.md\").open(\"wt\") as oup:\n",
    "        oup.write(\n",
    "            \"This directory contains licenses of Lean repos used to generate this dataset. The dataset itself is released under [CC BY 2.0](https://creativecommons.org/licenses/by/2.0/).\"\n",
    "        )\n",
    "\n",
    "\n",
    "def export_metadata(traced_repo: TracedRepo, dst_path: Path, **kwargs) -> None:\n",
    "    \"\"\"Export the metadata of a traced repo to ``dst_path''.\"\"\"\n",
    "    metadata = dict(kwargs)\n",
    "    metadata[\"creation_time\"] = str(datetime.now())\n",
    "    metadata[\"from_repo\"] = {\n",
    "        \"url\": traced_repo.repo.url,\n",
    "        \"commit\": traced_repo.repo.commit,\n",
    "    }\n",
    "    metadata[\"leandojo_version\"] = lean_dojo.__version__\n",
    "    json.dump(metadata, (dst_path / \"metadata.json\").open(\"wt\"))\n",
    "\n",
    "\n",
    "def export_data(\n",
    "    traced_repo: TracedRepo,\n",
    "    splits: Dict[SPLIT_STRATEGY, SPLIT],\n",
    "    dst_path: Union[str, Path],\n",
    "    **kwargs,\n",
    ") -> None:\n",
    "    \"\"\"Export a traced repo whose theorems have been splitted to ``dst_path``.\"\"\"\n",
    "    if isinstance(dst_path, str):\n",
    "        dst_path = Path(dst_path)\n",
    "    if dst_path.exists():\n",
    "        logger.warning(f\"{dst_path} already exists. Removing it now.\")\n",
    "        shutil.rmtree(dst_path)\n",
    "\n",
    "    # Export the proofs.\n",
    "    export_proofs(traced_repo, splits, dst_path)\n",
    "\n",
    "    # Export the premises (theorems, definitions, etc.).\n",
    "    export_premises(traced_repo, dst_path)\n",
    "\n",
    "    # Export the licenses.\n",
    "    export_licenses(traced_repo, dst_path)\n",
    "\n",
    "    # Export metadata.\n",
    "    export_metadata(traced_repo, dst_path, **kwargs)"
   ]
  },
  {
   "cell_type": "code",
   "execution_count": 7,
   "id": "bc50220e",
   "metadata": {
    "scrolled": true
   },
   "outputs": [
    {
     "name": "stderr",
     "output_type": "stream",
     "text": [
      "\u001b[32m2023-08-11 09:54:33.708\u001b[0m | \u001b[1mINFO    \u001b[0m | \u001b[36mlean_dojo.data_extraction.trace\u001b[0m:\u001b[36mtrace\u001b[0m:\u001b[36m163\u001b[0m - \u001b[1mLoading the traced repo from /home/kaiyu/.cache/lean_dojo/leanprover-community-mathlib4-355541ae7a2455222f179dcf7f074aa2c45eb8aa/mathlib4\u001b[0m\n",
      "2023-08-11 09:54:35,869\tINFO worker.py:1627 -- Started a local Ray instance. View the dashboard at \u001b[1m\u001b[32m127.0.0.1:8265 \u001b[39m\u001b[22m\n",
      "100%|████████████████████████████████████████| 4264/4264 [08:13<00:00,  8.64it/s]\n",
      "\u001b[32m2023-08-11 10:03:54.861\u001b[0m | \u001b[1mINFO    \u001b[0m | \u001b[36m__main__\u001b[0m:\u001b[36msplit_data\u001b[0m:\u001b[36m4\u001b[0m - \u001b[1m100780 theorems in total\u001b[0m\n",
      "\u001b[32m2023-08-11 10:03:54.863\u001b[0m | \u001b[1mINFO    \u001b[0m | \u001b[36m__main__\u001b[0m:\u001b[36msplit_randomly\u001b[0m:\u001b[36m18\u001b[0m - \u001b[1mSplitting the theorems randomly\u001b[0m\n",
      "\u001b[32m2023-08-11 10:03:54.903\u001b[0m | \u001b[1mINFO    \u001b[0m | \u001b[36m__main__\u001b[0m:\u001b[36msplit_by_premise\u001b[0m:\u001b[36m8\u001b[0m - \u001b[1mSplitting the theorems by premises\u001b[0m\n",
      "\u001b[32m2023-08-11 10:06:41.243\u001b[0m | \u001b[1mINFO    \u001b[0m | \u001b[36m__main__\u001b[0m:\u001b[36mexport_proofs\u001b[0m:\u001b[36m49\u001b[0m - \u001b[1m96780 theorems and 200914 tactics saved to ../leandojo_benchmark_4/random/train.json\u001b[0m\n",
      "\u001b[32m2023-08-11 10:06:44.887\u001b[0m | \u001b[1mINFO    \u001b[0m | \u001b[36m__main__\u001b[0m:\u001b[36mexport_proofs\u001b[0m:\u001b[36m49\u001b[0m - \u001b[1m2000 theorems and 4041 tactics saved to ../leandojo_benchmark_4/random/val.json\u001b[0m\n",
      "\u001b[32m2023-08-11 10:06:47.983\u001b[0m | \u001b[1mINFO    \u001b[0m | \u001b[36m__main__\u001b[0m:\u001b[36mexport_proofs\u001b[0m:\u001b[36m49\u001b[0m - \u001b[1m2000 theorems and 4178 tactics saved to ../leandojo_benchmark_4/random/test.json\u001b[0m\n",
      "\u001b[32m2023-08-11 10:09:06.059\u001b[0m | \u001b[1mINFO    \u001b[0m | \u001b[36m__main__\u001b[0m:\u001b[36mexport_proofs\u001b[0m:\u001b[36m49\u001b[0m - \u001b[1m96780 theorems and 186414 tactics saved to ../leandojo_benchmark_4/novel_premises/train.json\u001b[0m\n",
      "\u001b[32m2023-08-11 10:09:17.513\u001b[0m | \u001b[1mINFO    \u001b[0m | \u001b[36m__main__\u001b[0m:\u001b[36mexport_proofs\u001b[0m:\u001b[36m49\u001b[0m - \u001b[1m2000 theorems and 11073 tactics saved to ../leandojo_benchmark_4/novel_premises/val.json\u001b[0m\n",
      "\u001b[32m2023-08-11 10:09:28.317\u001b[0m | \u001b[1mINFO    \u001b[0m | \u001b[36m__main__\u001b[0m:\u001b[36mexport_proofs\u001b[0m:\u001b[36m49\u001b[0m - \u001b[1m2000 theorems and 11646 tactics saved to ../leandojo_benchmark_4/novel_premises/test.json\u001b[0m\n",
      "\u001b[32m2023-08-11 10:09:48.837\u001b[0m | \u001b[1mINFO    \u001b[0m | \u001b[36m__main__\u001b[0m:\u001b[36mexport_premises\u001b[0m:\u001b[36m73\u001b[0m - \u001b[1m101500 theorems/definitions from 4264 files saved to ../leandojo_benchmark_4/corpus.jsonl\u001b[0m\n"
     ]
    }
   ],
   "source": [
    "repo = LeanGitRepo(URL, COMMIT)\n",
    "traced_repo = trace(repo)\n",
    "splits = split_data(traced_repo)\n",
    "export_data(traced_repo, splits, DST_DIR, dataset_name=\"LeanDojo Benchmark 4\")"
   ]
  },
  {
   "cell_type": "markdown",
   "id": "29e7f389",
   "metadata": {},
   "source": [
    "## Data Format\n",
    "\n",
    "This is the resulting data directory:\n",
    "\n",
    "```\n",
    "├─corpus.jsonl\n",
    "├─metadata.json\n",
    "├─licenses\n",
    "│ ├─lean4\n",
    "│ ├─mathlib4\n",
    "│ ├─doc-gen4\n",
    "│ ├─aesop\n",
    "│ ├─ProofWidgets4\n",
    "│ ├─std4\n",
    "│ └─README.md\n",
    "├─random\n",
    "│ ├─train.json\n",
    "│ ├─val.json\n",
    "│ └─test.json\n",
    "└─novel_premises\n",
    "  ├─train.json\n",
    "  ├─val.json\n",
    "  └─test.json\n",
    "```\n",
    "\n",
    "`corpus.jsonl` is a corpus of all theorems and definitions in mathlib4 that can potentially be used as premises. Sub-directories `random` and `novel_premise` are different strategies for splitting the theorems. For each strategy, we have `*.json` files for train/val/test. The sub-directory `licenses` contains license information.\n",
    "\n",
    "### Corpus of Potential Premises\n",
    "\n",
    "`corpus.jsonl` is in [JSON Lines format](https://jsonlines.org/); a line includes the potential premises defined in a single `*.lean` file."
   ]
  },
  {
   "cell_type": "code",
   "execution_count": 8,
   "id": "7427982d",
   "metadata": {},
   "outputs": [
    {
     "name": "stdout",
     "output_type": "stream",
     "text": [
      "4264\r\n"
     ]
    }
   ],
   "source": [
    "!cat ../leandojo_benchmark_4/corpus.jsonl | wc -l"
   ]
  },
  {
   "cell_type": "markdown",
   "id": "9cd110de",
   "metadata": {},
   "source": [
    "Let's look at one of them."
   ]
  },
  {
   "cell_type": "code",
   "execution_count": 13,
   "id": "cbca21c9",
   "metadata": {},
   "outputs": [
    {
     "data": {
      "text/plain": [
       "dict_keys(['path', 'imports', 'premises'])"
      ]
     },
     "execution_count": 13,
     "metadata": {},
     "output_type": "execute_result"
    }
   ],
   "source": [
    "corpus_path = DST_DIR / \"corpus.jsonl\"\n",
    "lines = list(corpus_path.open())\n",
    "file_in_corpus = json.loads(lines[2000])\n",
    "file_in_corpus.keys()"
   ]
  },
  {
   "cell_type": "markdown",
   "id": "0173a217",
   "metadata": {},
   "source": [
    "We can check the file's path and other files it imports."
   ]
  },
  {
   "cell_type": "code",
   "execution_count": 14,
   "id": "f5c1920a",
   "metadata": {},
   "outputs": [
    {
     "data": {
      "text/plain": [
       "('Mathlib/Analysis/SpecialFunctions/Complex/Arg.lean',\n",
       " ['Mathlib/Analysis/SpecialFunctions/Trigonometric/Inverse.lean',\n",
       "  'lake-packages/lean4/src/lean/Init.lean',\n",
       "  'Mathlib/Analysis/SpecialFunctions/Trigonometric/Angle.lean'])"
      ]
     },
     "execution_count": 14,
     "metadata": {},
     "output_type": "execute_result"
    }
   ],
   "source": [
    "file_in_corpus[\"path\"], file_in_corpus[\"imports\"]"
   ]
  },
  {
   "cell_type": "code",
   "execution_count": 15,
   "id": "d801a0ae",
   "metadata": {},
   "outputs": [
    {
     "data": {
      "text/plain": [
       "71"
      ]
     },
     "execution_count": 15,
     "metadata": {},
     "output_type": "execute_result"
    }
   ],
   "source": [
    "len(file_in_corpus[\"premises\"])"
   ]
  },
  {
   "cell_type": "markdown",
   "id": "178e1214",
   "metadata": {},
   "source": [
    "We can inspect the first potential premise:"
   ]
  },
  {
   "cell_type": "code",
   "execution_count": 16,
   "id": "b533d342",
   "metadata": {},
   "outputs": [
    {
     "data": {
      "text/plain": [
       "{'full_name': 'Complex.sin_arg',\n",
       " 'code': 'theorem sin_arg (x : ℂ) : Real.sin (arg x) = x.im / abs x',\n",
       " 'start': [36, 1],\n",
       " 'end': [40, 60],\n",
       " 'kind': 'commandtheoremn'}"
      ]
     },
     "execution_count": 16,
     "metadata": {},
     "output_type": "execute_result"
    }
   ],
   "source": [
    "file_in_corpus[\"premises\"][0]"
   ]
  },
  {
   "cell_type": "markdown",
   "id": "8b3649f1",
   "metadata": {},
   "source": [
    "Each premise has a fully qualified name, its definition (in the form of Lean code), and the exact location it is defined.\n",
    "\n",
    "\n",
    "### Theorems/Proofs Data\n",
    "\n",
    "Now let's take a look at the theorems/proofs data, taking the `random` split as an example."
   ]
  },
  {
   "cell_type": "code",
   "execution_count": 17,
   "id": "4fb19aa3",
   "metadata": {},
   "outputs": [
    {
     "data": {
      "text/plain": [
       "96780"
      ]
     },
     "execution_count": 17,
     "metadata": {},
     "output_type": "execute_result"
    }
   ],
   "source": [
    "train_path = DST_DIR / \"random/train.json\"\n",
    "proofs_train = json.load(train_path.open())\n",
    "len(proofs_train)"
   ]
  },
  {
   "cell_type": "markdown",
   "id": "2ad702de",
   "metadata": {},
   "source": [
    "Each element in `proofs_val` represents a theorem. Let's check one of them."
   ]
  },
  {
   "cell_type": "code",
   "execution_count": 19,
   "id": "3cc47f7e",
   "metadata": {},
   "outputs": [
    {
     "data": {
      "text/plain": [
       "dict_keys(['url', 'commit', 'file_path', 'full_name', 'start', 'end', 'traced_tactics'])"
      ]
     },
     "execution_count": 19,
     "metadata": {},
     "output_type": "execute_result"
    }
   ],
   "source": [
    "for proof in proofs_train:\n",
    "    if proof[\"traced_tactics\"] != []:\n",
    "        break\n",
    "proof.keys()"
   ]
  },
  {
   "cell_type": "code",
   "execution_count": 20,
   "id": "3c2c36a7",
   "metadata": {},
   "outputs": [
    {
     "data": {
      "text/plain": [
       "('https://github.com/leanprover-community/mathlib4',\n",
       " '355541ae7a2455222f179dcf7f074aa2c45eb8aa',\n",
       " 'Mathlib/Topology/Algebra/InfiniteSum/Basic.lean',\n",
       " \"tsum_comm'\")"
      ]
     },
     "execution_count": 20,
     "metadata": {},
     "output_type": "execute_result"
    }
   ],
   "source": [
    "proof[\"url\"], proof[\"commit\"], proof[\"file_path\"], proof[\"full_name\"]"
   ]
  },
  {
   "cell_type": "markdown",
   "id": "4969e5ab",
   "metadata": {},
   "source": [
    "We see the theorem's name and where it is defined. The thereom includes some traced tactics."
   ]
  },
  {
   "cell_type": "code",
   "execution_count": 21,
   "id": "c29987ff",
   "metadata": {},
   "outputs": [
    {
     "data": {
      "text/plain": [
       "2"
      ]
     },
     "execution_count": 21,
     "metadata": {},
     "output_type": "execute_result"
    }
   ],
   "source": [
    "len(proof[\"traced_tactics\"])"
   ]
  },
  {
   "cell_type": "markdown",
   "id": "cedebf93",
   "metadata": {},
   "source": [
    "Let's look at a traced tactic."
   ]
  },
  {
   "cell_type": "code",
   "execution_count": 22,
   "id": "a734d788",
   "metadata": {},
   "outputs": [
    {
     "data": {
      "text/plain": [
       "{'tactic': \"erw [← tsum_prod' h h₁, ← tsum_prod' h.prod_symm h₂, ← (Equiv.prodComm γ β).tsum_eq (uncurry f)]\",\n",
       " 'annotated_tactic': [\"erw [← tsum_prod' h h₁, ← tsum_prod' h.prod_symm h₂, ← (<a>Equiv.prodComm</a> γ β).tsum_eq (<a>uncurry</a> f)]\",\n",
       "  [{'full_name': 'Equiv.prodComm',\n",
       "    'def_path': 'Mathlib/Logic/Equiv/Basic.lean',\n",
       "    'def_pos': [114, 5],\n",
       "    'def_end_pos': [114, 13]},\n",
       "   {'full_name': 'Function.uncurry',\n",
       "    'def_path': 'Mathlib/Init/Function.lean',\n",
       "    'def_pos': [216, 5],\n",
       "    'def_end_pos': [216, 12]}]],\n",
       " 'state_before': \"α : Type u_1\\nβ : Type u_2\\nγ : Type u_3\\nδ : Type u_4\\ninst✝⁷ : AddCommMonoid α\\ninst✝⁶ : TopologicalSpace α\\nf✝ g : β → α\\na a₁ a₂ : α\\ninst✝⁵ : T2Space α\\ninst✝⁴ : ContinuousAdd α\\ninst✝³ : AddCommMonoid δ\\ninst✝² : TopologicalSpace δ\\ninst✝¹ : T3Space δ\\ninst✝ : ContinuousAdd δ\\nf : β → γ → δ\\nh : Summable (uncurry f)\\nh₁ : ∀ (b : β), Summable (f b)\\nh₂ : ∀ (c : γ), Summable fun b => f b c\\n⊢ ∑' (c : γ) (b : β), f b c = ∑' (b : β) (c : γ), f b c\",\n",
       " 'state_after': \"α : Type u_1\\nβ : Type u_2\\nγ : Type u_3\\nδ : Type u_4\\ninst✝⁷ : AddCommMonoid α\\ninst✝⁶ : TopologicalSpace α\\nf✝ g : β → α\\na a₁ a₂ : α\\ninst✝⁵ : T2Space α\\ninst✝⁴ : ContinuousAdd α\\ninst✝³ : AddCommMonoid δ\\ninst✝² : TopologicalSpace δ\\ninst✝¹ : T3Space δ\\ninst✝ : ContinuousAdd δ\\nf : β → γ → δ\\nh : Summable (uncurry f)\\nh₁ : ∀ (b : β), Summable (f b)\\nh₂ : ∀ (c : γ), Summable fun b => f b c\\n⊢ ∑' (p : γ × β), uncurry f (Prod.swap p) = ∑' (c : γ × β), uncurry f (↑(Equiv.prodComm γ β) c)\"}"
      ]
     },
     "execution_count": 22,
     "metadata": {},
     "output_type": "execute_result"
    }
   ],
   "source": [
    "proof[\"traced_tactics\"][0]"
   ]
  },
  {
   "cell_type": "markdown",
   "id": "b5ba66f6",
   "metadata": {},
   "source": [
    "`annotated_tactic` is the tactic with premises annotated by `<a> ... </a>`. For each premise, we know its fully qualified name and the exact location it is defined, which is invaluable for training machine learning models for premise selection."
   ]
  },
  {
   "cell_type": "code",
   "execution_count": null,
   "id": "bfab8bc2",
   "metadata": {},
   "outputs": [],
   "source": []
  }
 ],
 "metadata": {
  "kernelspec": {
   "display_name": "Python 3 (ipykernel)",
   "language": "python",
   "name": "python3"
  },
  "language_info": {
   "codemirror_mode": {
    "name": "ipython",
    "version": 3
   },
   "file_extension": ".py",
   "mimetype": "text/x-python",
   "name": "python",
   "nbconvert_exporter": "python",
   "pygments_lexer": "ipython3",
   "version": "3.10.11"
  }
 },
 "nbformat": 4,
 "nbformat_minor": 5
}

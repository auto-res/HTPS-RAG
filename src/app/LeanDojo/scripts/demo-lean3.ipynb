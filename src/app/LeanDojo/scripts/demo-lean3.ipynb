{
 "cells": [
  {
   "cell_type": "markdown",
   "id": "d2dff738",
   "metadata": {},
   "source": [
    "LeanDojo Demo\n",
    "=============\n",
    "\n",
    "This notebook demonstrates the main features of LeanDojo (using Lean 3). Please refer to the [documentation](https://leandojo.readthedocs.io/en/latest/) for more details."
   ]
  },
  {
   "cell_type": "code",
   "execution_count": 1,
   "id": "9212dcd7",
   "metadata": {},
   "outputs": [],
   "source": [
    "from lean_dojo import *"
   ]
  },
  {
   "cell_type": "markdown",
   "id": "59558558",
   "metadata": {},
   "source": [
    "## Extract Data from Lean"
   ]
  },
  {
   "cell_type": "code",
   "execution_count": 4,
   "id": "843d4747",
   "metadata": {},
   "outputs": [
    {
     "data": {
      "text/plain": [
       "LeanGitRepo(url='https://github.com/zhangir-azerbayev/ProofNet', commit='876bf5f9a424e92fc74d7e72c0bee0eb77bdc0b1')"
      ]
     },
     "execution_count": 4,
     "metadata": {},
     "output_type": "execute_result"
    }
   ],
   "source": [
    "repo = LeanGitRepo(\n",
    "    \"https://github.com/zhangir-azerbayev/ProofNet\",\n",
    "    \"876bf5f9a424e92fc74d7e72c0bee0eb77bdc0b1\",\n",
    ")\n",
    "\n",
    "repo"
   ]
  },
  {
   "cell_type": "code",
   "execution_count": 5,
   "id": "0c859ad1",
   "metadata": {},
   "outputs": [],
   "source": [
    "# Expected behavior: this line should open another tab and take you to the website of the repo to be traced.\n",
    "repo.show()"
   ]
  },
  {
   "cell_type": "code",
   "execution_count": 6,
   "id": "5d3054f1",
   "metadata": {},
   "outputs": [
    {
     "data": {
      "text/plain": [
       "{'package': {'name': 'ProofNet',\n",
       "  'version': '0.1',\n",
       "  'lean_version': 'leanprover-community/lean:3.50.3',\n",
       "  'path': 'benchmark'},\n",
       " 'dependencies': {'mathlib': {'git': 'https://github.com/leanprover-community/mathlib',\n",
       "   'rev': 'cc8e88c7c8c7bc80f91f84d11adb584bf9bd658f'}}}"
      ]
     },
     "execution_count": 6,
     "metadata": {},
     "output_type": "execute_result"
    }
   ],
   "source": [
    "repo.get_config(\"leanpkg.toml\")"
   ]
  },
  {
   "cell_type": "code",
   "execution_count": 7,
   "id": "5b432202",
   "metadata": {},
   "outputs": [
    {
     "name": "stderr",
     "output_type": "stream",
     "text": [
      "\u001b[32m2023-07-27 23:46:25.298\u001b[0m | \u001b[1mINFO    \u001b[0m | \u001b[36mlean_dojo.data_extraction.trace\u001b[0m:\u001b[36mtrace\u001b[0m:\u001b[36m163\u001b[0m - \u001b[1mLoading the traced repo from /home/kaiyu/.cache/lean_dojo/zhangir-azerbayev-ProofNet-876bf5f9a424e92fc74d7e72c0bee0eb77bdc0b1/ProofNet\u001b[0m\n",
      "2023-07-27 23:46:27,191\tINFO worker.py:1627 -- Started a local Ray instance. View the dashboard at \u001b[1m\u001b[32m127.0.0.1:8265 \u001b[39m\u001b[22m\n",
      "100%|███████████████████████████████████████████████████████| 1539/1539 [02:17<00:00, 11.18it/s]\n"
     ]
    }
   ],
   "source": [
    "# A few minutes if the traced repo is in the cache; many hours otherwise.\n",
    "traced_repo = trace(repo)"
   ]
  },
  {
   "cell_type": "code",
   "execution_count": 8,
   "id": "aa0f19df",
   "metadata": {
    "scrolled": true
   },
   "outputs": [
    {
     "data": {
      "text/plain": [
       "<networkx.classes.digraph.DiGraph at 0x7f6d5998efb0>"
      ]
     },
     "execution_count": 8,
     "metadata": {},
     "output_type": "execute_result"
    }
   ],
   "source": [
    "traced_repo.traced_files_graph"
   ]
  },
  {
   "cell_type": "code",
   "execution_count": 9,
   "id": "4e7938ec",
   "metadata": {},
   "outputs": [
    {
     "data": {
      "text/plain": [
       "1539"
      ]
     },
     "execution_count": 9,
     "metadata": {},
     "output_type": "execute_result"
    }
   ],
   "source": [
    "traced_repo.num_traced_files"
   ]
  },
  {
   "cell_type": "code",
   "execution_count": 10,
   "id": "d71cabae",
   "metadata": {},
   "outputs": [
    {
     "data": {
      "text/plain": [
       "TracedFile(root_dir=PosixPath('/raid/kaiyu/.cache/lean_dojo/zhangir-azerbayev-ProofNet-876bf5f9a424e92fc74d7e72c0bee0eb77bdc0b1/ProofNet'), lean_file=LeanFile(path=PosixPath('benchmark/benchmark_to_publish/formal/Rudin.lean'), uses_lean4=False))"
      ]
     },
     "execution_count": 10,
     "metadata": {},
     "output_type": "execute_result"
    }
   ],
   "source": [
    "traced_file = traced_repo.get_traced_file(\n",
    "    \"benchmark/benchmark_to_publish/formal/Rudin.lean\"\n",
    ")\n",
    "\n",
    "traced_file"
   ]
  },
  {
   "cell_type": "code",
   "execution_count": 11,
   "id": "f6ed1141",
   "metadata": {},
   "outputs": [
    {
     "data": {
      "text/plain": [
       "[{'full_name': 'exercise_1_1a',\n",
       "  'code': 'theorem exercise_1_1a\\n  (x : ℝ) (y : ℚ) :\\n  ( irrational x ) -> irrational ( x + y )',\n",
       "  'start': [15, 1],\n",
       "  'end': [20, 4],\n",
       "  'kind': 'theorem'},\n",
       " {'full_name': 'exercise_1_1b',\n",
       "  'code': 'theorem exercise_1_1b\\n(x : ℝ)\\n(y : ℚ)\\n(h : y ≠ 0)\\n: ( irrational x ) -> irrational ( x * y )',\n",
       "  'start': [22, 1],\n",
       "  'end': [30, 4],\n",
       "  'kind': 'theorem'},\n",
       " {'full_name': 'exercise_1_2',\n",
       "  'code': 'theorem exercise_1_2 : ¬ ∃ (x : ℚ), ( x ^ 2 = 12 )',\n",
       "  'start': [32, 1],\n",
       "  'end': [33, 6],\n",
       "  'kind': 'theorem'},\n",
       " {'full_name': 'exercise_1_4',\n",
       "  'code': 'theorem exercise_1_4\\n(α : Type*) [partial_order α]\\n(s : set α)\\n(x y : α)\\n(h₀ : set.nonempty s)\\n(h₁ : x ∈ lower_bounds s)\\n(h₂ : y ∈ upper_bounds s)\\n: x ≤ y',\n",
       "  'start': [35, 1],\n",
       "  'end': [57, 4],\n",
       "  'kind': 'theorem'},\n",
       " {'full_name': 'exercise_1_5',\n",
       "  'code': 'theorem exercise_1_5 (A minus_A : set ℝ) (hA : A.nonempty) \\n  (hA_bdd_below : bdd_below A) (hminus_A : minus_A = {x | -x ∈ A}) :\\n  Inf A = Sup minus_A',\n",
       "  'start': [59, 1],\n",
       "  'end': [62, 6],\n",
       "  'kind': 'theorem'},\n",
       " {'full_name': 'exercise_1_8',\n",
       "  'code': 'theorem exercise_1_8 : ¬ ∃ (r : ℂ → ℂ → Prop), is_linear_order ℂ r',\n",
       "  'start': [64, 1],\n",
       "  'end': [65, 8],\n",
       "  'kind': 'theorem'},\n",
       " {'full_name': 'exercise_1_11a',\n",
       "  'code': 'theorem exercise_1_11a (z : ℂ) : \\n  ∃ (r : ℝ) (w : ℂ), abs w = 1 ∧ z = r * w',\n",
       "  'start': [67, 1],\n",
       "  'end': [89, 4],\n",
       "  'kind': 'theorem'},\n",
       " {'full_name': 'exercise_1_12',\n",
       "  'code': 'theorem exercise_1_12 (n : ℕ) (f : ℕ → ℂ) : \\n  abs (∑ i in finset.range n, f i) ≤ ∑ i in finset.range n, abs (f i)',\n",
       "  'start': [91, 1],\n",
       "  'end': [93, 6],\n",
       "  'kind': 'theorem'},\n",
       " {'full_name': 'exercise_1_13',\n",
       "  'code': 'theorem exercise_1_13 (x y : ℂ) : \\n  |(abs x) - (abs y)| ≤ abs (x - y)',\n",
       "  'start': [95, 1],\n",
       "  'end': [97, 6],\n",
       "  'kind': 'theorem'},\n",
       " {'full_name': 'exercise_1_14',\n",
       "  'code': 'theorem exercise_1_14\\n  (z : ℂ) (h : abs z = 1)\\n  : (abs (1 + z)) ^ 2 + (abs (1 - z)) ^ 2 = 4',\n",
       "  'start': [99, 1],\n",
       "  'end': [102, 6],\n",
       "  'kind': 'theorem'},\n",
       " {'full_name': 'exercise_1_16a',\n",
       "  'code': 'theorem exercise_1_16a\\n  (n : ℕ)\\n  (d r : ℝ)\\n  (x y z : euclidean_space ℝ (fin n)) -- R^n\\n  (h₁ : n ≥ 3)\\n  (h₂ : ‖x - y‖ = d)\\n  (h₃ : d > 0)\\n  (h₄ : r > 0)\\n  (h₅ : 2 * r > d)\\n  : set.infinite {z : euclidean_space ℝ (fin n) | ‖z - x‖ = r ∧ ‖z - y‖ = r}',\n",
       "  'start': [104, 1],\n",
       "  'end': [114, 6],\n",
       "  'kind': 'theorem'},\n",
       " {'full_name': 'exercise_1_17',\n",
       "  'code': 'theorem exercise_1_17\\n  (n : ℕ)\\n  (x y : euclidean_space ℝ (fin n)) -- R^n\\n  : ‖x + y‖^2 + ‖x - y‖^2 = 2*‖x‖^2 + 2*‖y‖^2',\n",
       "  'start': [116, 1],\n",
       "  'end': [120, 6],\n",
       "  'kind': 'theorem'},\n",
       " {'full_name': 'exercise_1_18a',\n",
       "  'code': 'theorem exercise_1_18a\\n  (n : ℕ)\\n  (h : n > 1)\\n  (x : euclidean_space ℝ (fin n)) -- R^n\\n  : ∃ (y : euclidean_space ℝ (fin n)), y ≠ 0 ∧ (inner x y) = (0 : ℝ)',\n",
       "  'start': [122, 1],\n",
       "  'end': [127, 6],\n",
       "  'kind': 'theorem'},\n",
       " {'full_name': 'exercise_1_18b',\n",
       "  'code': 'theorem exercise_1_18b\\n  : ¬ ∀ (x : ℝ), ∃ (y : ℝ), y ≠ 0 ∧ x * y = 0',\n",
       "  'start': [129, 1],\n",
       "  'end': [138, 4],\n",
       "  'kind': 'theorem'},\n",
       " {'full_name': 'exercise_1_19',\n",
       "  'code': 'theorem exercise_1_19\\n  (n : ℕ)\\n  (a b c x : euclidean_space ℝ (fin n))\\n  (r : ℝ)\\n  (h₁ : r > 0)\\n  (h₂ : 3 • c = 4 • b - a)\\n  (h₃ : 3 * r = 2 * ‖x - b‖)\\n  : ‖x - a‖ = 2 * ‖x - b‖ ↔ ‖x - c‖ = r',\n",
       "  'start': [140, 1],\n",
       "  'end': [148, 6],\n",
       "  'kind': 'theorem'},\n",
       " {'full_name': 'exercise_2_19a',\n",
       "  'code': 'theorem exercise_2_19a {X : Type*} [metric_space X]\\n  (A B : set X) (hA : is_closed A) (hB : is_closed B) (hAB : disjoint A B) :\\n  separated_nhds A B',\n",
       "  'start': [150, 1],\n",
       "  'end': [153, 6],\n",
       "  'kind': 'theorem'},\n",
       " {'full_name': 'exercise_2_24',\n",
       "  'code': 'theorem exercise_2_24 {X : Type*} [metric_space X]\\n  (hX : ∀ (A : set X), infinite A → ∃ (x : X), x ∈ closure A) :\\n  separable_space X',\n",
       "  'start': [155, 1],\n",
       "  'end': [158, 6],\n",
       "  'kind': 'theorem'},\n",
       " {'full_name': 'exercise_2_25',\n",
       "  'code': 'theorem exercise_2_25 {K : Type*} [metric_space K] [compact_space K] :\\n  ∃ (B : set (set K)), set.countable B ∧ is_topological_basis B',\n",
       "  'start': [160, 1],\n",
       "  'end': [162, 6],\n",
       "  'kind': 'theorem'},\n",
       " {'full_name': 'exercise_2_27a',\n",
       "  'code': 'theorem exercise_2_27a (k : ℕ) (E P : set (euclidean_space ℝ (fin k)))\\n  (hE : E.nonempty ∧ ¬ set.countable E)\\n  (hP : P = {x | ∀ U ∈ 𝓝 x, ¬ set.countable (P ∩ E)}) :\\n  is_closed P ∧ P = {x | cluster_pt x (𝓟 P)}',\n",
       "  'start': [164, 1],\n",
       "  'end': [168, 6],\n",
       "  'kind': 'theorem'},\n",
       " {'full_name': 'exercise_2_27b',\n",
       "  'code': 'theorem exercise_2_27b (k : ℕ) (E P : set (euclidean_space ℝ (fin k)))\\n  (hE : E.nonempty ∧ ¬ set.countable E)\\n  (hP : P = {x | ∀ U ∈ 𝓝 x, (P ∩ E).nonempty ∧ ¬ set.countable (P ∩ E)}) :\\n  set.countable (E \\\\ P)',\n",
       "  'start': [170, 1],\n",
       "  'end': [174, 6],\n",
       "  'kind': 'theorem'},\n",
       " {'full_name': 'exercise_2_28',\n",
       "  'code': 'theorem exercise_2_28 (X : Type*) [metric_space X] [separable_space X]\\n  (A : set X) (hA : is_closed A) :\\n  ∃ P₁ P₂ : set X, A = P₁ ∪ P₂ ∧\\n  is_closed P₁ ∧ P₁ = {x | cluster_pt x (𝓟 P₁)} ∧\\n  set.countable P₂',\n",
       "  'start': [176, 1],\n",
       "  'end': [181, 6],\n",
       "  'kind': 'theorem'},\n",
       " {'full_name': 'exercise_2_29',\n",
       "  'code': 'theorem exercise_2_29 (U : set ℝ) (hU : is_open U) :\\n  ∃ (f : ℕ → set ℝ), (∀ n, ∃ a b : ℝ, f n = {x | a < x ∧ x < b}) ∧ (∀ n, f n ⊆ U) ∧\\n  (∀ n m, n ≠ m → f n ∩ f m = ∅) ∧\\n  U = ⋃ n, f n',\n",
       "  'start': [183, 1],\n",
       "  'end': [187, 6],\n",
       "  'kind': 'theorem'},\n",
       " {'full_name': 'exercise_3_1a',\n",
       "  'code': 'theorem exercise_3_1a\\n  (f : ℕ → ℝ)\\n  (h : ∃ (a : ℝ), tendsto (λ (n : ℕ), f n) at_top (𝓝 a))\\n  : ∃ (a : ℝ), tendsto (λ (n : ℕ), |f n|) at_top (𝓝 a)',\n",
       "  'start': [189, 1],\n",
       "  'end': [197, 4],\n",
       "  'kind': 'theorem'},\n",
       " {'full_name': 'exercise_3_2a',\n",
       "  'code': 'theorem exercise_3_2a\\n  : tendsto (λ (n : ℝ), (sqrt (n^2 + n) - n)) at_top (𝓝 (1/2))',\n",
       "  'start': [199, 1],\n",
       "  'end': [244, 4],\n",
       "  'kind': 'theorem'},\n",
       " {'full_name': 'f',\n",
       "  'code': 'noncomputable def f : ℕ → ℝ\\n| 0 := sqrt 2\\n| (n + 1) := sqrt (2 + sqrt (f n))',\n",
       "  'start': [246, 1],\n",
       "  'end': [248, 35],\n",
       "  'kind': 'definition'},\n",
       " {'full_name': 'exercise_3_3',\n",
       "  'code': 'theorem exercise_3_3\\n  : ∃ (x : ℝ), tendsto f at_top (𝓝 x) ∧ ∀ n, f n < 2',\n",
       "  'start': [250, 1],\n",
       "  'end': [252, 6],\n",
       "  'kind': 'theorem'},\n",
       " {'full_name': 'exercise_3_5',\n",
       "  'code': 'theorem exercise_3_5 -- TODO fix\\n  (a b : ℕ → ℝ)\\n  (h : limsup a + limsup b ≠ 0) :\\n  limsup (λ n, a n + b n) ≤ limsup a + limsup b',\n",
       "  'start': [254, 1],\n",
       "  'end': [258, 6],\n",
       "  'kind': 'theorem'},\n",
       " {'full_name': 'g',\n",
       "  'code': 'def g (n : ℕ) : ℝ := sqrt (n + 1) - sqrt n',\n",
       "  'start': [260, 1],\n",
       "  'end': [260, 43],\n",
       "  'kind': 'definition'},\n",
       " {'full_name': 'exercise_3_6a',\n",
       "  'code': 'theorem exercise_3_6a\\n: tendsto (λ (n : ℕ), (∑ i in finset.range n, g i)) at_top at_top',\n",
       "  'start': [262, 1],\n",
       "  'end': [277, 4],\n",
       "  'kind': 'theorem'},\n",
       " {'full_name': 'exercise_3_7',\n",
       "  'code': 'theorem exercise_3_7\\n  (a : ℕ → ℝ)\\n  (h : ∃ y, (tendsto (λ n, (∑ i in (finset.range n), a i)) at_top (𝓝 y))) :\\n  ∃ y, tendsto (λ n, (∑ i in (finset.range n), sqrt (a i) / n)) at_top (𝓝 y)',\n",
       "  'start': [279, 1],\n",
       "  'end': [283, 6],\n",
       "  'kind': 'theorem'},\n",
       " {'full_name': 'exercise_3_8',\n",
       "  'code': 'theorem exercise_3_8\\n  (a b : ℕ → ℝ)\\n  (h1 : ∃ y, (tendsto (λ n, (∑ i in (finset.range n), a i)) at_top (𝓝 y)))\\n  (h2 : monotone b)\\n  (h3 : metric.bounded (set.range b)) :\\n  ∃ y, tendsto (λ n, (∑ i in (finset.range n), (a i) * (b i))) at_top (𝓝 y)',\n",
       "  'start': [285, 1],\n",
       "  'end': [291, 6],\n",
       "  'kind': 'theorem'},\n",
       " {'full_name': 'exercise_3_13',\n",
       "  'code': 'theorem exercise_3_13\\n  (a b : ℕ → ℝ)\\n  (ha : ∃ y, (tendsto (λ n, (∑ i in (finset.range n), |a i|)) at_top (𝓝 y)))\\n  (hb : ∃ y, (tendsto (λ n, (∑ i in (finset.range n), |b i|)) at_top (𝓝 y))) :\\n  ∃ y, (tendsto (λ n, (∑ i in (finset.range n),\\n  λ i, (∑ j in finset.range (i + 1), a j * b (i - j)))) at_top (𝓝 y))',\n",
       "  'start': [293, 1],\n",
       "  'end': [299, 6],\n",
       "  'kind': 'theorem'},\n",
       " {'full_name': 'exercise_3_20',\n",
       "  'code': 'theorem exercise_3_20 {X : Type*} [metric_space X]\\n  (p : ℕ → X) (l : ℕ) (r : X)\\n  (hp : cauchy_seq p)\\n  (hpl : tendsto (λ n, p (l * n)) at_top (𝓝 r)) :\\n  tendsto p at_top (𝓝 r)',\n",
       "  'start': [301, 1],\n",
       "  'end': [306, 6],\n",
       "  'kind': 'theorem'},\n",
       " {'full_name': 'exercise_3_21',\n",
       "  'code': \"theorem exercise_3_21\\n  {X : Type*} [metric_space X] [complete_space X]\\n  (E : ℕ → set X)\\n  (hE : ∀ n, E n ⊃ E (n + 1))\\n  (hE' : tendsto (λ n, metric.diam (E n)) at_top (𝓝 0)) :\\n  ∃ a, set.Inter E = {a}\",\n",
       "  'start': [308, 1],\n",
       "  'end': [314, 6],\n",
       "  'kind': 'theorem'},\n",
       " {'full_name': 'exercise_3_22',\n",
       "  'code': 'theorem exercise_3_22 (X : Type*) [metric_space X] [complete_space X]\\n  (G : ℕ → set X) (hG : ∀ n, is_open (G n) ∧ dense (G n)) :\\n  ∃ x, ∀ n, x ∈ G n',\n",
       "  'start': [316, 1],\n",
       "  'end': [319, 6],\n",
       "  'kind': 'theorem'},\n",
       " {'full_name': 'exercise_4_1a',\n",
       "  'code': 'theorem exercise_4_1a\\n  : ∃ (f : ℝ → ℝ), (∀ (x : ℝ), tendsto (λ y, f(x + y) - f(x - y)) (𝓝 0) (𝓝 0)) ∧ ¬ continuous f',\n",
       "  'start': [321, 1],\n",
       "  'end': [510, 4],\n",
       "  'kind': 'theorem'},\n",
       " {'full_name': 'exercise_4_2a',\n",
       "  'code': \"theorem exercise_4_2a\\n  {α : Type} [metric_space α]\\n  {β : Type} [metric_space β]\\n  (f : α → β)\\n  (h₁ : continuous f)\\n  : ∀ (x : set α), f '' (closure x) ⊆ closure (f '' x)\",\n",
       "  'start': [512, 1],\n",
       "  'end': [528, 4],\n",
       "  'kind': 'theorem'},\n",
       " {'full_name': 'exercise_4_3',\n",
       "  'code': \"theorem exercise_4_3\\n  {α : Type} [metric_space α]\\n  (f : α → ℝ) (h : continuous f) (z : set α) (g : z = f⁻¹' {0})\\n  : is_closed z\",\n",
       "  'start': [530, 1],\n",
       "  'end': [538, 4],\n",
       "  'kind': 'theorem'},\n",
       " {'full_name': 'exercise_4_4a',\n",
       "  'code': \"theorem exercise_4_4a\\n  {α : Type} [metric_space α]\\n  {β : Type} [metric_space β]\\n  (f : α → β)\\n  (s : set α)\\n  (h₁ : continuous f)\\n  (h₂ : dense s)\\n  : f '' set.univ ⊆ closure (f '' s)\",\n",
       "  'start': [540, 1],\n",
       "  'end': [551, 4],\n",
       "  'kind': 'theorem'},\n",
       " {'full_name': 'exercise_4_4b',\n",
       "  'code': 'theorem exercise_4_4b\\n  {α : Type} [metric_space α]\\n  {β : Type} [metric_space β]\\n  (f g : α → β)\\n  (s : set α)\\n  (h₁ : continuous f)\\n  (h₂ : continuous g)\\n  (h₃ : dense s)\\n  (h₄ : ∀ x ∈ s, f x = g x)\\n  : f = g',\n",
       "  'start': [553, 1],\n",
       "  'end': [576, 4],\n",
       "  'kind': 'theorem'},\n",
       " {'full_name': 'exercise_4_5a',\n",
       "  'code': 'theorem exercise_4_5a\\n  (f : ℝ → ℝ)\\n  (E : set ℝ)\\n  (h₁ : is_closed E)\\n  (h₂ : continuous_on f E)\\n  : ∃ (g : ℝ → ℝ), continuous g ∧ ∀ x ∈ E, f x = g x',\n",
       "  'start': [578, 1],\n",
       "  'end': [584, 6],\n",
       "  'kind': 'theorem'},\n",
       " {'full_name': 'exercise_4_5b',\n",
       "  'code': 'theorem exercise_4_5b\\n  : ∃ (E : set ℝ) (f : ℝ → ℝ), (continuous_on f E) ∧\\n  (¬ ∃ (g : ℝ → ℝ), continuous g ∧ ∀ x ∈ E, f x = g x)',\n",
       "  'start': [586, 1],\n",
       "  'end': [752, 4],\n",
       "  'kind': 'theorem'},\n",
       " {'full_name': 'exercise_4_6',\n",
       "  'code': 'theorem exercise_4_6\\n  (f : ℝ → ℝ)\\n  (E : set ℝ)\\n  (G : set (ℝ × ℝ))\\n  (h₁ : is_compact E)\\n  (h₂ : G = {(x, f x) | x ∈ E})\\n  : continuous_on f E ↔ is_compact G',\n",
       "  'start': [754, 1],\n",
       "  'end': [761, 6],\n",
       "  'kind': 'theorem'},\n",
       " {'full_name': 'exercise_4_8a',\n",
       "  'code': 'theorem exercise_4_8a\\n  (E : set ℝ) (f : ℝ → ℝ) (hf : uniform_continuous_on f E)\\n  (hE : metric.bounded E) : metric.bounded (set.image f E)',\n",
       "  'start': [763, 1],\n",
       "  'end': [766, 6],\n",
       "  'kind': 'theorem'},\n",
       " {'full_name': 'exercise_4_8b',\n",
       "  'code': 'theorem exercise_4_8b\\n  (E : set ℝ) :\\n  ∃ f : ℝ → ℝ, uniform_continuous_on f E ∧ ¬ metric.bounded (set.image f E)',\n",
       "  'start': [768, 1],\n",
       "  'end': [771, 6],\n",
       "  'kind': 'theorem'},\n",
       " {'full_name': 'exercise_4_11a',\n",
       "  'code': 'theorem exercise_4_11a\\n  {X : Type*} [metric_space X]\\n  {Y : Type*} [metric_space Y]\\n  (f : X → Y) (hf : uniform_continuous f)\\n  (x : ℕ → X) (hx : cauchy_seq x) :\\n  cauchy_seq (λ n, f (x n))',\n",
       "  'start': [773, 1],\n",
       "  'end': [779, 6],\n",
       "  'kind': 'theorem'},\n",
       " {'full_name': 'exercise_4_12',\n",
       "  'code': 'theorem exercise_4_12\\n  {α β γ : Type*} [uniform_space α] [uniform_space β] [uniform_space γ]\\n  {f : α → β} {g : β → γ}\\n  (hf : uniform_continuous f) (hg : uniform_continuous g) :\\n  uniform_continuous (g ∘ f)',\n",
       "  'start': [781, 1],\n",
       "  'end': [786, 6],\n",
       "  'kind': 'theorem'},\n",
       " {'full_name': 'exercise_4_15',\n",
       "  'code': 'theorem exercise_4_15 {f : ℝ → ℝ}\\n  (hf : continuous f) (hof : is_open_map f) :\\n  monotone f',\n",
       "  'start': [788, 1],\n",
       "  'end': [791, 6],\n",
       "  'kind': 'theorem'},\n",
       " {'full_name': 'exercise_4_19',\n",
       "  'code': 'theorem exercise_4_19\\n  {f : ℝ → ℝ} (hf : ∀ a b c, a < b → f a < c → c < f b → ∃ x, a < x ∧ x < b ∧ f x = c)\\n  (hg : ∀ r : ℚ, is_closed {x | f x = r}) : continuous f',\n",
       "  'start': [793, 1],\n",
       "  'end': [796, 6],\n",
       "  'kind': 'theorem'},\n",
       " {'full_name': 'exercise_4_21a',\n",
       "  'code': 'theorem exercise_4_21a {X : Type*} [metric_space X]\\n  (K F : set X) (hK : is_compact K) (hF : is_closed F) (hKF : disjoint K F) :\\n  ∃ (δ : ℝ), δ > 0 ∧ ∀ (p q : X), p ∈ K → q ∈ F → dist p q ≥ δ',\n",
       "  'start': [798, 1],\n",
       "  'end': [801, 6],\n",
       "  'kind': 'theorem'},\n",
       " {'full_name': 'exercise_4_24',\n",
       "  'code': 'theorem exercise_4_24 {f : ℝ → ℝ}\\n  (hf : continuous f) (a b : ℝ) (hab : a < b)\\n  (h : ∀ x y : ℝ, a < x → x < b → a < y → y < b → f ((x + y) / 2) ≤ (f x + f y) / 2) :\\n  convex_on ℝ (set.Ioo a b) f',\n",
       "  'start': [803, 1],\n",
       "  'end': [807, 6],\n",
       "  'kind': 'theorem'},\n",
       " {'full_name': 'exercise_5_1',\n",
       "  'code': 'theorem exercise_5_1\\n  {f : ℝ → ℝ} (hf : ∀ x y : ℝ, | (f x - f y) | ≤ (x - y) ^ 2) :\\n  ∃ c, f = λ x, c',\n",
       "  'start': [809, 1],\n",
       "  'end': [812, 6],\n",
       "  'kind': 'theorem'},\n",
       " {'full_name': 'exercise_5_2',\n",
       "  'code': 'theorem exercise_5_2 {a b : ℝ}\\n  {f g : ℝ → ℝ} (hf : ∀ x ∈ set.Ioo a b, deriv f x > 0)\\n  (hg : g = f⁻¹)\\n  (hg_diff : differentiable_on ℝ g (set.Ioo a b)) :\\n  differentiable_on ℝ g (set.Ioo a b) ∧\\n  ∀ x ∈ set.Ioo a b, deriv g x = 1 / deriv f x',\n",
       "  'start': [814, 1],\n",
       "  'end': [820, 6],\n",
       "  'kind': 'theorem'},\n",
       " {'full_name': 'exercise_5_3',\n",
       "  'code': \"theorem exercise_5_3 {g : ℝ → ℝ} (hg : continuous g)\\n  (hg' : ∃ M : ℝ, ∀ x : ℝ, | deriv g x | ≤ M) :\\n  ∃ N, ∀ ε > 0, ε < N → function.injective (λ x : ℝ, x + ε * g x)\",\n",
       "  'start': [822, 1],\n",
       "  'end': [825, 6],\n",
       "  'kind': 'theorem'},\n",
       " {'full_name': 'exercise_5_4',\n",
       "  'code': 'theorem exercise_5_4 {n : ℕ}\\n  (C : ℕ → ℝ)\\n  (hC : ∑ i in (finset.range (n + 1)), (C i) / (i + 1) = 0) :\\n  ∃ x, x ∈ (set.Icc (0 : ℝ) 1) ∧ ∑ i in finset.range (n + 1), (C i) * (x^i) = 0',\n",
       "  'start': [827, 1],\n",
       "  'end': [831, 6],\n",
       "  'kind': 'theorem'},\n",
       " {'full_name': 'exercise_5_5',\n",
       "  'code': 'theorem exercise_5_5\\n  {f : ℝ → ℝ}\\n  (hfd : differentiable ℝ f)\\n  (hf : tendsto (deriv f) at_top (𝓝 0)) :\\n  tendsto (λ x, f (x + 1) - f x) at_top at_top',\n",
       "  'start': [833, 1],\n",
       "  'end': [838, 6],\n",
       "  'kind': 'theorem'},\n",
       " {'full_name': 'exercise_5_6',\n",
       "  'code': 'theorem exercise_5_6\\n  {f : ℝ → ℝ}\\n  (hf1 : continuous f)\\n  (hf2 : ∀ x, differentiable_at ℝ f x)\\n  (hf3 : f 0 = 0)\\n  (hf4 : monotone (deriv f)) :\\n  monotone_on (λ x, f x / x) (set.Ioi 0)',\n",
       "  'start': [840, 1],\n",
       "  'end': [847, 6],\n",
       "  'kind': 'theorem'},\n",
       " {'full_name': 'exercise_5_7',\n",
       "  'code': \"theorem exercise_5_7\\n  {f g : ℝ → ℝ} {x : ℝ}\\n  (hf' : differentiable_at ℝ f 0)\\n  (hg' : differentiable_at ℝ g 0)\\n  (hg'_ne_0 : deriv g 0 ≠ 0)\\n  (f0 : f 0 = 0) (g0 : g 0 = 0) :\\n  tendsto (λ x, f x / g x) (𝓝 x) (𝓝 (deriv f x / deriv g x))\",\n",
       "  'start': [849, 1],\n",
       "  'end': [856, 6],\n",
       "  'kind': 'theorem'},\n",
       " {'full_name': 'exercise_5_15',\n",
       "  'code': \"theorem exercise_5_15 {f : ℝ → ℝ} (a M0 M1 M2 : ℝ)\\n  (hf' : differentiable_on ℝ f (set.Ici a))\\n  (hf'' : differentiable_on ℝ (deriv f) (set.Ici a))\\n  (hM0 : M0 = Sup {(| f x | )| x ∈ (set.Ici a)})\\n  (hM1 : M1 = Sup {(| deriv f x | )| x ∈ (set.Ici a)})\\n  (hM2 : M2 = Sup {(| deriv (deriv f) x | )| x ∈ (set.Ici a)}) :\\n  (M1 ^ 2) ≤ 4 * M0 * M2\",\n",
       "  'start': [858, 1],\n",
       "  'end': [865, 6],\n",
       "  'kind': 'theorem'},\n",
       " {'full_name': 'exercise_5_17',\n",
       "  'code': \"theorem exercise_5_17\\n  {f : ℝ → ℝ}\\n  (hf' : differentiable_on ℝ f (set.Icc (-1) 1))\\n  (hf'' : differentiable_on ℝ (deriv f) (set.Icc 1 1))\\n  (hf''' : differentiable_on ℝ (deriv (deriv f)) (set.Icc 1 1))\\n  (hf0 : f (-1) = 0)\\n  (hf1 : f 0 = 0)\\n  (hf2 : f 1 = 1)\\n  (hf3 : deriv f 0 = 0) :\\n  ∃ x, x ∈ set.Ioo (-1 : ℝ) 1 ∧ deriv (deriv (deriv f)) x ≥ 3\",\n",
       "  'start': [867, 1],\n",
       "  'end': [877, 6],\n",
       "  'kind': 'theorem'}]"
      ]
     },
     "execution_count": 11,
     "metadata": {},
     "output_type": "execute_result"
    }
   ],
   "source": [
    "traced_file.get_premise_definitions()"
   ]
  },
  {
   "cell_type": "code",
   "execution_count": 12,
   "id": "e85a0ab0",
   "metadata": {},
   "outputs": [
    {
     "data": {
      "text/plain": [
       "58"
      ]
     },
     "execution_count": 12,
     "metadata": {},
     "output_type": "execute_result"
    }
   ],
   "source": [
    "traced_theorems = traced_file.get_traced_theorems()\n",
    "\n",
    "len(traced_theorems)"
   ]
  },
  {
   "cell_type": "code",
   "execution_count": 13,
   "id": "71597ccc",
   "metadata": {
    "scrolled": true
   },
   "outputs": [
    {
     "data": {
      "text/plain": [
       "TracedTheorem(theorem=Theorem(repo=LeanGitRepo(url='https://github.com/zhangir-azerbayev/ProofNet', commit='876bf5f9a424e92fc74d7e72c0bee0eb77bdc0b1'), file_path=PosixPath('benchmark/benchmark_to_publish/formal/Rudin.lean'), full_name='exercise_1_1b'))"
      ]
     },
     "execution_count": 13,
     "metadata": {},
     "output_type": "execute_result"
    }
   ],
   "source": [
    "thm = traced_file.get_traced_theorem(\"exercise_1_1b\")\n",
    "\n",
    "thm"
   ]
  },
  {
   "cell_type": "code",
   "execution_count": 14,
   "id": "91546702",
   "metadata": {},
   "outputs": [],
   "source": [
    "# Expected behavior: this line should open another tab and take you to the website of the traced theorem.\n",
    "thm.show()"
   ]
  },
  {
   "cell_type": "code",
   "execution_count": 15,
   "id": "6bd6eae6",
   "metadata": {},
   "outputs": [
    {
     "data": {
      "text/plain": [
       "Theorem(repo=LeanGitRepo(url='https://github.com/zhangir-azerbayev/ProofNet', commit='876bf5f9a424e92fc74d7e72c0bee0eb77bdc0b1'), file_path=PosixPath('benchmark/benchmark_to_publish/formal/Rudin.lean'), full_name='exercise_1_1b')"
      ]
     },
     "execution_count": 15,
     "metadata": {},
     "output_type": "execute_result"
    }
   ],
   "source": [
    "thm.theorem"
   ]
  },
  {
   "cell_type": "code",
   "execution_count": 16,
   "id": "b3f65ee3",
   "metadata": {},
   "outputs": [
    {
     "data": {
      "text/plain": [
       "((22, 1), (30, 4))"
      ]
     },
     "execution_count": 16,
     "metadata": {},
     "output_type": "execute_result"
    }
   ],
   "source": [
    "thm.start, thm.end"
   ]
  },
  {
   "cell_type": "code",
   "execution_count": 17,
   "id": "4b5e1790",
   "metadata": {},
   "outputs": [
    {
     "data": {
      "text/plain": [
       "datetime.datetime(2023, 2, 16, 16, 38, 11, tzinfo=datetime.timezone(datetime.timedelta(days=-1, seconds=68400)))"
      ]
     },
     "execution_count": 17,
     "metadata": {},
     "output_type": "execute_result"
    }
   ],
   "source": [
    "thm.get_creation_date()"
   ]
  },
  {
   "cell_type": "code",
   "execution_count": 18,
   "id": "c17bcdc0",
   "metadata": {},
   "outputs": [
    {
     "data": {
      "text/plain": [
       "True"
      ]
     },
     "execution_count": 18,
     "metadata": {},
     "output_type": "execute_result"
    }
   ],
   "source": [
    "thm.has_tactic_proof()"
   ]
  },
  {
   "cell_type": "code",
   "execution_count": 19,
   "id": "03ec09a0",
   "metadata": {},
   "outputs": [
    {
     "data": {
      "text/plain": [
       "2"
      ]
     },
     "execution_count": 19,
     "metadata": {},
     "output_type": "execute_result"
    }
   ],
   "source": [
    "thm.get_num_tactics()"
   ]
  },
  {
   "cell_type": "code",
   "execution_count": 20,
   "id": "e2cbe341",
   "metadata": {},
   "outputs": [
    {
     "name": "stdout",
     "output_type": "stream",
     "text": [
      "begin\n",
      "  intro g,\n",
      "  apply irrational.mul_rat g h,\n",
      "end\n"
     ]
    }
   ],
   "source": [
    "proof_node = thm.get_proof_node()\n",
    "proof = proof_node.lean_file[proof_node.start : proof_node.end]\n",
    "print(proof)"
   ]
  },
  {
   "cell_type": "code",
   "execution_count": 21,
   "id": "fed646dc",
   "metadata": {},
   "outputs": [
    {
     "data": {
      "text/plain": [
       "[TracedTactic(tactic=intro g, state_before=x : ℝ,\n",
       " y : ℚ,\n",
       " h : y ≠ 0\n",
       " ⊢ irrational x → irrational (x * ↑y), state_after=x : ℝ,\n",
       " y : ℚ,\n",
       " h : y ≠ 0,\n",
       " g : irrational x\n",
       " ⊢ irrational (x * ↑y)),\n",
       " TracedTactic(tactic=apply irrational.mul_rat g h, state_before=x : ℝ,\n",
       " y : ℚ,\n",
       " h : y ≠ 0,\n",
       " g : irrational x\n",
       " ⊢ irrational (x * ↑y), state_after=no goals)]"
      ]
     },
     "execution_count": 21,
     "metadata": {},
     "output_type": "execute_result"
    }
   ],
   "source": [
    "traced_tactics = thm.get_traced_tactics()\n",
    "\n",
    "traced_tactics"
   ]
  },
  {
   "cell_type": "code",
   "execution_count": 22,
   "id": "97416a8c",
   "metadata": {},
   "outputs": [
    {
     "data": {
      "text/plain": [
       "TracedTactic(tactic=apply irrational.mul_rat g h, state_before=x : ℝ,\n",
       "y : ℚ,\n",
       "h : y ≠ 0,\n",
       "g : irrational x\n",
       "⊢ irrational (x * ↑y), state_after=no goals)"
      ]
     },
     "execution_count": 22,
     "metadata": {},
     "output_type": "execute_result"
    }
   ],
   "source": [
    "tac = traced_tactics[1]\n",
    "\n",
    "tac"
   ]
  },
  {
   "cell_type": "code",
   "execution_count": 23,
   "id": "f9cab7e8",
   "metadata": {},
   "outputs": [
    {
     "data": {
      "text/plain": [
       "('apply <a>irrational.mul_rat</a> g h',\n",
       " [{'full_name': 'irrational.mul_rat',\n",
       "   'def_path': '_target/deps/mathlib/src/data/real/irrational.lean',\n",
       "   'def_pos': [259, 9]}])"
      ]
     },
     "execution_count": 23,
     "metadata": {},
     "output_type": "execute_result"
    }
   ],
   "source": [
    "tac.get_annotated_tactic()"
   ]
  },
  {
   "cell_type": "markdown",
   "id": "f472378c",
   "metadata": {},
   "source": [
    "## Interact with Lean Programmatically"
   ]
  },
  {
   "cell_type": "code",
   "execution_count": 24,
   "id": "7bf2223e",
   "metadata": {},
   "outputs": [
    {
     "data": {
      "text/plain": [
       "LeanGitRepo(url='https://github.com/zhangir-azerbayev/ProofNet', commit='876bf5f9a424e92fc74d7e72c0bee0eb77bdc0b1')"
      ]
     },
     "execution_count": 24,
     "metadata": {},
     "output_type": "execute_result"
    }
   ],
   "source": [
    "repo"
   ]
  },
  {
   "cell_type": "code",
   "execution_count": 25,
   "id": "564be8c3",
   "metadata": {},
   "outputs": [],
   "source": [
    "theorem = Theorem(\n",
    "    repo, \"benchmark/benchmark_to_publish/formal/Rudin.lean\", \"exercise_1_1b\"\n",
    ")\n",
    "\n",
    "# For some theorems, it might take a few minutes.\n",
    "dojo, state_0 = Dojo(theorem).__enter__()"
   ]
  },
  {
   "cell_type": "code",
   "execution_count": 26,
   "id": "82b861d4",
   "metadata": {},
   "outputs": [
    {
     "data": {
      "text/plain": [
       "TacticState(pp='x : ℝ,\\ny : ℚ,\\nh : y ≠ 0\\n⊢ irrational x → irrational (x * ↑y)', id=0, message=None)"
      ]
     },
     "execution_count": 26,
     "metadata": {},
     "output_type": "execute_result"
    }
   ],
   "source": [
    "state_0"
   ]
  },
  {
   "cell_type": "code",
   "execution_count": 27,
   "id": "615ff20b",
   "metadata": {},
   "outputs": [
    {
     "name": "stdout",
     "output_type": "stream",
     "text": [
      "x : ℝ,\n",
      "y : ℚ,\n",
      "h : y ≠ 0\n",
      "⊢ irrational x → irrational (x * ↑y)\n"
     ]
    }
   ],
   "source": [
    "print(state_0.pp)"
   ]
  },
  {
   "cell_type": "code",
   "execution_count": 28,
   "id": "2fc6af75",
   "metadata": {},
   "outputs": [
    {
     "name": "stdout",
     "output_type": "stream",
     "text": [
      "x : ℝ,\n",
      "y : ℚ\n",
      "⊢ y ≠ 0 → irrational x → irrational (x * ↑y)\n"
     ]
    }
   ],
   "source": [
    "state_1 = dojo.run_tac(state_0, \"revert h\")\n",
    "\n",
    "print(state_1.pp)"
   ]
  },
  {
   "cell_type": "code",
   "execution_count": 29,
   "id": "82f44779",
   "metadata": {},
   "outputs": [
    {
     "data": {
      "text/plain": [
       "LeanError(error='gen_tac_and_capture_res_failed: pos=none msg=\"parse_itactic failed on `hello world!`\" tactic_state=\"x : ℝ,\\ny : ℚ,\\nh : y ≠ 0\\n⊢ irrational x → irrational (x * ↑y)\"')"
      ]
     },
     "execution_count": 29,
     "metadata": {},
     "output_type": "execute_result"
    }
   ],
   "source": [
    "state_2 = dojo.run_tac(state_0, \"hello world!\")\n",
    "\n",
    "state_2"
   ]
  },
  {
   "cell_type": "code",
   "execution_count": 30,
   "id": "847e28af",
   "metadata": {},
   "outputs": [
    {
     "ename": "RuntimeError",
     "evalue": "Attempting to run a tactic on an invalid state LeanError(error='gen_tac_and_capture_res_failed: pos=none msg=\"parse_itactic failed on `hello world!`\" tactic_state=\"x : ℝ,\\ny : ℚ,\\nh : y ≠ 0\\n⊢ irrational x → irrational (x * ↑y)\"').",
     "output_type": "error",
     "traceback": [
      "\u001b[0;31m---------------------------------------------------------------------------\u001b[0m",
      "\u001b[0;31mRuntimeError\u001b[0m                              Traceback (most recent call last)",
      "Cell \u001b[0;32mIn[30], line 1\u001b[0m\n\u001b[0;32m----> 1\u001b[0m \u001b[43mdojo\u001b[49m\u001b[38;5;241;43m.\u001b[39;49m\u001b[43mrun_tac\u001b[49m\u001b[43m(\u001b[49m\u001b[43mstate_2\u001b[49m\u001b[43m,\u001b[49m\u001b[43m \u001b[49m\u001b[38;5;124;43m\"\u001b[39;49m\u001b[38;5;124;43mskip\u001b[39;49m\u001b[38;5;124;43m\"\u001b[39;49m\u001b[43m)\u001b[49m\n",
      "File \u001b[0;32m~/LeanDojo/src/lean_dojo/interaction/dojo.py:408\u001b[0m, in \u001b[0;36mDojo.run_tac\u001b[0;34m(self, state, tactic)\u001b[0m\n\u001b[1;32m    406\u001b[0m \u001b[38;5;28;01mdef\u001b[39;00m \u001b[38;5;21mrun_tac\u001b[39m(\u001b[38;5;28mself\u001b[39m, state: TacticState, tactic: \u001b[38;5;28mstr\u001b[39m) \u001b[38;5;241m-\u001b[39m\u001b[38;5;241m>\u001b[39m TacticResult:\n\u001b[1;32m    407\u001b[0m     \u001b[38;5;28;01mif\u001b[39;00m \u001b[38;5;129;01mnot\u001b[39;00m \u001b[38;5;28misinstance\u001b[39m(state, TacticState):\n\u001b[0;32m--> 408\u001b[0m         \u001b[38;5;28;01mraise\u001b[39;00m \u001b[38;5;167;01mRuntimeError\u001b[39;00m(\n\u001b[1;32m    409\u001b[0m             \u001b[38;5;124mf\u001b[39m\u001b[38;5;124m\"\u001b[39m\u001b[38;5;124mAttempting to run a tactic on an invalid state \u001b[39m\u001b[38;5;132;01m{\u001b[39;00mstate\u001b[38;5;132;01m}\u001b[39;00m\u001b[38;5;124m.\u001b[39m\u001b[38;5;124m\"\u001b[39m\n\u001b[1;32m    410\u001b[0m         )\n\u001b[1;32m    411\u001b[0m     \u001b[38;5;28;01massert\u001b[39;00m \u001b[38;5;28misinstance\u001b[39m(tactic, \u001b[38;5;28mstr\u001b[39m), \u001b[38;5;124mf\u001b[39m\u001b[38;5;124m\"\u001b[39m\u001b[38;5;124mInvalid tactic \u001b[39m\u001b[38;5;132;01m{\u001b[39;00mtactic\u001b[38;5;132;01m}\u001b[39;00m\u001b[38;5;124m\"\u001b[39m\n\u001b[1;32m    413\u001b[0m     tsid \u001b[38;5;241m=\u001b[39m state\u001b[38;5;241m.\u001b[39mid\n",
      "\u001b[0;31mRuntimeError\u001b[0m: Attempting to run a tactic on an invalid state LeanError(error='gen_tac_and_capture_res_failed: pos=none msg=\"parse_itactic failed on `hello world!`\" tactic_state=\"x : ℝ,\\ny : ℚ,\\nh : y ≠ 0\\n⊢ irrational x → irrational (x * ↑y)\"')."
     ]
    }
   ],
   "source": [
    "dojo.run_tac(state_2, \"skip\")"
   ]
  },
  {
   "cell_type": "code",
   "execution_count": 31,
   "id": "ef15f488",
   "metadata": {},
   "outputs": [
    {
     "data": {
      "text/plain": [
       "TimeoutError(error='gen_tac_and_capture_res_failed: pos=none msg=\"try_for_time tactic failed, timeout\" tactic_state=\"x : ℝ,\\ny : ℚ,\\nh : y ≠ 0\\n⊢ irrational x → irrational (x * ↑y)\"')"
      ]
     },
     "execution_count": 31,
     "metadata": {},
     "output_type": "execute_result"
    }
   ],
   "source": [
    "dojo.run_tac(state_0, \"repeat {skip}\")"
   ]
  },
  {
   "cell_type": "code",
   "execution_count": 32,
   "id": "9e4e3ce5",
   "metadata": {},
   "outputs": [
    {
     "data": {
      "text/plain": [
       "5000"
      ]
     },
     "execution_count": 32,
     "metadata": {},
     "output_type": "execute_result"
    }
   ],
   "source": [
    "from lean_dojo.constants import TACTIC_TIMEOUT\n",
    "\n",
    "TACTIC_TIMEOUT"
   ]
  },
  {
   "cell_type": "code",
   "execution_count": 33,
   "id": "2f8e8cbe",
   "metadata": {},
   "outputs": [
    {
     "data": {
      "text/plain": [
       "ProofGivenUp()"
      ]
     },
     "execution_count": 33,
     "metadata": {},
     "output_type": "execute_result"
    }
   ],
   "source": [
    "dojo.run_tac(state_0, \"sorry\")"
   ]
  },
  {
   "cell_type": "code",
   "execution_count": 34,
   "id": "48878975",
   "metadata": {},
   "outputs": [
    {
     "name": "stdout",
     "output_type": "stream",
     "text": [
      "x : ℝ,\n",
      "y : ℚ,\n",
      "h : y ≠ 0\n",
      "⊢ irrational x → irrational (x * ↑y)\n"
     ]
    }
   ],
   "source": [
    "print(state_0.pp)"
   ]
  },
  {
   "cell_type": "code",
   "execution_count": 35,
   "id": "3269a3a9",
   "metadata": {},
   "outputs": [
    {
     "name": "stdout",
     "output_type": "stream",
     "text": [
      "x : ℝ,\n",
      "y : ℚ,\n",
      "h : y ≠ 0,\n",
      "g : irrational x\n",
      "⊢ irrational (x * ↑y)\n"
     ]
    }
   ],
   "source": [
    "state_3 = dojo.run_tac(state_0, \"intro g\")\n",
    "\n",
    "print(state_3.pp)"
   ]
  },
  {
   "cell_type": "code",
   "execution_count": 36,
   "id": "eb2576af",
   "metadata": {},
   "outputs": [
    {
     "name": "stdout",
     "output_type": "stream",
     "text": [
      "ProofFinished(tactic_state_id=3, message='')\n"
     ]
    }
   ],
   "source": [
    "state_4 = dojo.run_tac(state_3, \"apply irrational.mul_rat g h\")\n",
    "\n",
    "print(state_4)"
   ]
  },
  {
   "cell_type": "code",
   "execution_count": 37,
   "id": "f5510359",
   "metadata": {},
   "outputs": [
    {
     "data": {
      "text/plain": [
       "True"
      ]
     },
     "execution_count": 37,
     "metadata": {},
     "output_type": "execute_result"
    }
   ],
   "source": [
    "dojo.is_successful"
   ]
  },
  {
   "cell_type": "markdown",
   "id": "58246bcd",
   "metadata": {},
   "source": [
    "## Query the Lean Environment"
   ]
  },
  {
   "cell_type": "code",
   "execution_count": 38,
   "id": "9416231b",
   "metadata": {},
   "outputs": [],
   "source": [
    "env = dojo.query_env(state_0)"
   ]
  },
  {
   "cell_type": "code",
   "execution_count": 39,
   "id": "2d030ca6",
   "metadata": {},
   "outputs": [
    {
     "data": {
      "text/plain": [
       "173084"
      ]
     },
     "execution_count": 39,
     "metadata": {},
     "output_type": "execute_result"
    }
   ],
   "source": [
    "len(env)"
   ]
  },
  {
   "cell_type": "code",
   "execution_count": 40,
   "id": "109d9ebe",
   "metadata": {},
   "outputs": [
    {
     "data": {
      "text/plain": [
       "\"concave_on.left_le_of_le_right'\""
      ]
     },
     "execution_count": 40,
     "metadata": {},
     "output_type": "execute_result"
    }
   ],
   "source": [
    "env[0]"
   ]
  },
  {
   "cell_type": "code",
   "execution_count": 41,
   "id": "9eeb128f",
   "metadata": {},
   "outputs": [
    {
     "data": {
      "text/plain": [
       "{'constructors_of': '[]',\n",
       " 'decl_olean': '(some /workspace/ProofNet/_target/deps/mathlib/src/analysis/convex/function.lean)',\n",
       " 'eqn_lemmas': '[]',\n",
       " 'ext_eqn_lemmas': '[]',\n",
       " 'in_current_file': 'ff',\n",
       " 'inductive_dep_elim': 'ff',\n",
       " 'inductive_num_indices': '0',\n",
       " 'inductive_num_params': '0',\n",
       " 'inductive_type_of': 'none',\n",
       " 'is_constructor': 'ff',\n",
       " 'is_definition': 'ff',\n",
       " 'is_ginductive': 'ff',\n",
       " 'is_inductive': 'ff',\n",
       " 'is_recursive': 'ff',\n",
       " 'is_recursor': 'ff',\n",
       " 'recursor_of': 'none',\n",
       " 'refl_for': 'none',\n",
       " 'relation_info': 'none',\n",
       " 'sort': 'Prop',\n",
       " 'structure_fields': 'none',\n",
       " 'symm_for': 'none',\n",
       " 'trans_for': 'none',\n",
       " 'type': '∀ {𝕜 : Type u_1} {E : Type u_2} {β : Type u_5} [_inst_1 : ordered_semiring 𝕜] [_inst_2 : add_comm_monoid E]\\n[_inst_4 : linear_ordered_cancel_add_comm_monoid β] [_inst_5 : has_smul 𝕜 E] [_inst_6 : module 𝕜 β]\\n[_inst_7 : ordered_smul 𝕜 β] {s : set E} {f : E → β},\\n  concave_on 𝕜 s f →\\n  ∀ {x y : E},\\n    x ∈ s →\\n    y ∈ s →\\n    ∀ {a b : 𝕜},\\n      0 < a → 0 ≤ b → a + b = 1 → f (a • x + b • y) ≤ f y → f x ≤ f (a • x + b • y)'}"
      ]
     },
     "execution_count": 41,
     "metadata": {},
     "output_type": "execute_result"
    }
   ],
   "source": [
    "dojo.query_decl(state_0, env[0])"
   ]
  },
  {
   "cell_type": "code",
   "execution_count": null,
   "id": "2a696c57",
   "metadata": {},
   "outputs": [],
   "source": []
  }
 ],
 "metadata": {
  "kernelspec": {
   "display_name": "Python 3 (ipykernel)",
   "language": "python",
   "name": "python3"
  },
  "language_info": {
   "codemirror_mode": {
    "name": "ipython",
    "version": 3
   },
   "file_extension": ".py",
   "mimetype": "text/x-python",
   "name": "python",
   "nbconvert_exporter": "python",
   "pygments_lexer": "ipython3",
   "version": "3.10.11"
  }
 },
 "nbformat": 4,
 "nbformat_minor": 5
}
